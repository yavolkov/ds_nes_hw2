{
  "cells": [
    {
      "cell_type": "markdown",
      "metadata": {
        "id": "xPCW0t6jIduY"
      },
      "source": [
        "## 1. Подсчет количества дней\n",
        "\n",
        "Создай целочисленные переменные, которые отвечают за:\n",
        "- количество дней для проращивания семян\n",
        "- количество дней для выращивания рассады\n",
        "- количество дней до плодоношения\n",
        "\n",
        "Сложи все три переменные. Выведи на экран результат - число дней от момента начала проращивания семян до момента, когда созреют помидоры."
      ]
    },
    {
      "cell_type": "code",
      "execution_count": 1,
      "metadata": {
        "id": "O6sEcKdFIMZb",
        "outputId": "fbd0f114-6733-4521-bf1c-c9d52bb29982",
        "colab": {
          "base_uri": "https://localhost:8080/"
        }
      },
      "outputs": [
        {
          "output_type": "stream",
          "name": "stdout",
          "text": [
            "1\n",
            "2\n",
            "3\n",
            "6\n"
          ]
        }
      ],
      "source": [
        "days_till_germination = int(input())\n",
        "days_till_growing = int(input())\n",
        "days_till_fruiting = int(input())\n",
        "\n",
        "print(days_till_germination + days_till_growing + days_till_fruiting)\n"
      ]
    },
    {
      "cell_type": "markdown",
      "metadata": {
        "id": "ZmLLCikNIAdT"
      },
      "source": [
        "## 2. Сохранение данных о сорте.\n",
        "\n",
        "Продуктивность сорта считается по простой формуле - [количество кг, собранных со всех кустов] / [количество кустов]\n",
        "\n",
        "Считай с клавиатуры количество килограмм, собранных со всех кустов и количество кустов (целые числа). Подели и округли до 2 знаков после запятой, результат выведи на экран."
      ]
    },
    {
      "cell_type": "code",
      "execution_count": 2,
      "metadata": {
        "id": "IWNzBK6AIouo",
        "outputId": "7ed7f1c8-990d-4f7c-abe0-771cf90f0ddf",
        "colab": {
          "base_uri": "https://localhost:8080/"
        }
      },
      "outputs": [
        {
          "output_type": "stream",
          "name": "stdout",
          "text": [
            "2 \n",
            "9\n",
            "0.22\n"
          ]
        }
      ],
      "source": [
        "kg, bushes_number = int(input()), int(input())\n",
        "productivity = round(kg / bushes_number, 2)\n",
        "\n",
        "print(productivity)"
      ]
    },
    {
      "cell_type": "markdown",
      "metadata": {
        "id": "O9dAr1NdJpyT"
      },
      "source": [
        "## 3. Средняя сладость клубники.\n",
        "\n",
        "Ваша бабушка решила поспорить с соседкой, у кого клубника более сладкая. Они посадили кусты и потом оценили сладость клубники, собранной с каждого из кустов, по шкале от 0 до 10. Ваша задача - посчитать среднее для двух массивов и определить, у кого слаще клубника в среднем."
      ]
    },
    {
      "cell_type": "code",
      "execution_count": 3,
      "metadata": {
        "id": "oy8HPWpiIpOv",
        "outputId": "b6e05c31-0fd2-47f3-801d-135871c61a03",
        "colab": {
          "base_uri": "https://localhost:8080/"
        }
      },
      "outputs": [
        {
          "output_type": "stream",
          "name": "stdout",
          "text": [
            "У бабушки слаще\n"
          ]
        }
      ],
      "source": [
        "grandma_strawberries = [5, 7, 10, 9, 3, 10]\n",
        "neighbour_strawberries = [10, 6, 2, 3]\n",
        "\n",
        "def mean_value(data: list[int]) -> float:\n",
        "    ans = 0\n",
        "    for val in data:\n",
        "        ans += val\n",
        "    return ans / len(data)\n",
        "\n",
        "if mean_value(grandma_strawberries) > mean_value(neighbour_strawberries):\n",
        "    print(\"У бабушки слаще\")\n",
        "elif mean_value(grandma_strawberries) < mean_value(neighbour_strawberries):\n",
        "    print(\"У соседки слаще\")\n",
        "else:\n",
        "    print(\"Одинаково сладкие\")"
      ]
    },
    {
      "cell_type": "markdown",
      "metadata": {
        "id": "EYjJBGLsRC4y"
      },
      "source": [
        "## 4. Список растений на даче.\n",
        "\n",
        "У вас есть список растений на даче у бабушки. <font color=\"#8000FF\"> При помощи форматирования строк </font> выведите список растений **в алфавитном порядке** в виде:\n",
        "\n",
        "N. Название растения."
      ]
    },
    {
      "cell_type": "code",
      "execution_count": 4,
      "metadata": {
        "id": "z2_PuewtIpWs",
        "outputId": "2e19320b-3409-4100-9f37-eb0f66f87e8a",
        "colab": {
          "base_uri": "https://localhost:8080/"
        }
      },
      "outputs": [
        {
          "output_type": "stream",
          "name": "stdout",
          "text": [
            "1. картошка.\n",
            "2. клубника.\n",
            "3. мальва.\n",
            "4. огурцы.\n",
            "5. подсолнухи.\n",
            "6. томаты.\n",
            "7. флоксы.\n",
            "8. хосты.\n"
          ]
        }
      ],
      "source": [
        "plants = [\"мальва\", \"клубника\", \"томаты\", \"огурцы\", \"флоксы\", \"картошка\", \"подсолнухи\", \"хосты\"]\n",
        "plants.sort()\n",
        "\n",
        "for i, plant in enumerate(plants):\n",
        "    print(f\"{i+1}. {plant}.\")"
      ]
    },
    {
      "cell_type": "markdown",
      "metadata": {
        "id": "amXMFPIxKq7s"
      },
      "source": [
        "## 5. Погода на улице.\n",
        "\n",
        "Сейчас весна, у вашей бабушки уже высажена рассада перцев в парник. Однако она боится заморозков. Ваша задача - считать с клавиатуры значение температуры:\n",
        "\n",
        "Если t<5, надо вывести \"Пожалуйста, закрой полностью парник - на улице холодно\";\n",
        "\n",
        "Если t от 5 до 10, надо вывести \"Пожалуйста, прикрой парник - на улице прохладно\";\n",
        "\n",
        "Если t больше 10, надо вывести \"Пожалуйста, открой полностью парник - на улице тепло\"."
      ]
    },
    {
      "cell_type": "code",
      "execution_count": 5,
      "metadata": {
        "id": "F9Xwk-ldIpeY",
        "outputId": "749a32f3-3d21-44e1-bf7d-4d08c1fff8ee",
        "colab": {
          "base_uri": "https://localhost:8080/"
        }
      },
      "outputs": [
        {
          "output_type": "stream",
          "name": "stdout",
          "text": [
            "7\n",
            "Пожалуйста, прикрой парник - на улице прохладно\n"
          ]
        }
      ],
      "source": [
        "t = float(input())\n",
        "if t < 5:\n",
        "    print(\"Пожалуйста, закрой полностью парник - на улице холодно\")\n",
        "elif 5 <= t and t <= 10:\n",
        "    print(\"Пожалуйста, прикрой парник - на улице прохладно\")\n",
        "else:\n",
        "    print(\"Пожалуйста, открой полностью парник - на улице тепло\")"
      ]
    },
    {
      "cell_type": "markdown",
      "metadata": {
        "id": "AoT449EwIoN0"
      },
      "source": [
        "## 6. Список любимых томатов.\n",
        "\n",
        "У вашей бабушки есть любимые сорта томатов, но не все из них она посадила в этом году. У вас есть словарь, где ключ - название сорта, а по значению лежит количество кустов, высаженных в этом году.\n",
        "\n",
        "Ваша задача - вывести список сортов, которые были высажены в этом году (если высажено 0 кустов, то этот сорт в этом году не сажался)."
      ]
    },
    {
      "cell_type": "code",
      "execution_count": null,
      "metadata": {
        "id": "r61uXx7PIpkJ",
        "outputId": "67ec323a-b168-49ab-d9cc-521bbe21d2d8"
      },
      "outputs": [
        {
          "name": "stdout",
          "output_type": "stream",
          "text": [
            "Бычье сердце\n",
            "Любаша\n",
            "Космонавт Волков\n",
            "Монеточка\n"
          ]
        }
      ],
      "source": [
        "tomatoes = {\"Бычье сердце\": 4, \"Любаша\": 1, \"Титаник\": 0, \"Космонавт Волков\": 7}\n",
        "tomatoes[\"Монеточка\"] = 5\n",
        "\n",
        "for key, value in tomatoes.items():\n",
        "    if value > 0:\n",
        "        print(key)"
      ]
    },
    {
      "cell_type": "markdown",
      "metadata": {
        "id": "M7EBZSFGLiVy"
      },
      "source": [
        "## 7. Словари.\n",
        "\n",
        "Создайте словарь, где ключами будут числа от 0 до 20 включительно, а значения -\n",
        "1. -1, если значение ключа делится на 5\n",
        "2. 1 иначе\n",
        "\n",
        "\n",
        "<font color=\"#8000FF\"> Используйте comprehensions </font>"
      ]
    },
    {
      "cell_type": "code",
      "execution_count": 6,
      "metadata": {
        "id": "2JxdQGZJIppV"
      },
      "outputs": [],
      "source": [
        "my_dict = {n: -1 if n % 5 == 0 else 1 for n in range(21)}"
      ]
    },
    {
      "cell_type": "markdown",
      "metadata": {
        "id": "ZTrqV-ixUhcj"
      },
      "source": [
        "## 8. Ох уж эти корейцы\n",
        "\n",
        "Вам дан список с возрастами людей в одной неизвестной корейской фирме. Вышел новый закон, который постановляет, что теперь возраст сотрудников считается не традиционным способом, а по факту рождения. Менеджер компании попросил вас перезаполнить базу данных, обновив возраст сотрудников по правилу:\n",
        "\n",
        "$age = (age + 1)$\n",
        "\n",
        " <font color=\"#8000FF\"> Используйте функцию `map`</font>"
      ]
    },
    {
      "cell_type": "code",
      "execution_count": 8,
      "metadata": {
        "id": "60H4Zi4eMSQp"
      },
      "outputs": [],
      "source": [
        "import random\n",
        "ages = random.choices(list(range(20, 65)), k=100500)\n",
        "\n",
        "new_age = list(map(lambda x : x + 1, ages))"
      ]
    },
    {
      "cell_type": "markdown",
      "metadata": {
        "id": "0wcUgWpqMls_"
      },
      "source": [
        "## 9. Ох уж эти корейцы - 2.0\n",
        "\n",
        "Условие такое же, как и в задаче 8, но теперь вам предстоит решить такую же задачу с использованием <font color=\"#8000FF\"> `list comprehensions` </font>"
      ]
    },
    {
      "cell_type": "code",
      "execution_count": 9,
      "metadata": {
        "id": "FyrL43m7Iptt"
      },
      "outputs": [],
      "source": [
        "import random\n",
        "ages = random.choices(list(range(20, 65)), k=100500)\n",
        "\n",
        "new_age = [val + 1 for val in ages]"
      ]
    },
    {
      "cell_type": "markdown",
      "metadata": {
        "id": "0nk0f2oSM-dx"
      },
      "source": [
        "## 10. Много разных строк.\n",
        "\n",
        "Напишите функцию` get_extended_string_info`, принимающую на вход строку, а на выход выдаёт **7 строк через запятую**, полученные из оригинальной соответствующим преобразованием:\n",
        "\n",
        "1. Самое длинное слово в строке\n",
        "2. Количество слов в строке\n",
        "3. Переворачивает каждое слово в строке задом наперёд\n",
        "4. Удаляет все цифры из строки\n",
        "5. Заменяет все буквы верхнего регистра на нижний, а нижнего регистра на верхний\n",
        "6. Проверяет, является ли строка палиндромом (без учета пробелов, регистра и пунктуации, те только буквы и цифры)\n",
        "7. Если строка не является палиндромом, то выводит первые 5 символов строки в обратном порядке\n",
        "\n",
        "Т.е.  первая строка - самое длинное слово в исходной строке, вторая строка - количество слов в исходной строке и.т.д."
      ]
    },
    {
      "cell_type": "code",
      "execution_count": 10,
      "metadata": {
        "id": "qD-0OsRZIpw3"
      },
      "outputs": [],
      "source": [
        "def get_extended_string_info(s: str):\n",
        "    answers = []\n",
        "    words = ''.join(char if char.isdigit() or char.isalpha() or char == \" \" else \"\" for char in s).split()\n",
        "    longest_word = max(words, key=len)\n",
        "    answers.append(longest_word)\n",
        "\n",
        "    number_of_words = len(words)\n",
        "    answers.append(number_of_words)\n",
        "\n",
        "    reversed_words = []\n",
        "    for word in words:\n",
        "        reversed_word = word[::-1]\n",
        "        reversed_words.append(reversed_word)\n",
        "    reversed_words_string = \" \".join(reversed_words)\n",
        "    answers.append(reversed_words_string)\n",
        "\n",
        "    string_without_numbers = \"\"\n",
        "    for char in s:\n",
        "        if not char.isdigit():\n",
        "            string_without_numbers += char\n",
        "    answers.append(string_without_numbers)\n",
        "\n",
        "    case_swapped = s.swapcase()\n",
        "    answers.append(case_swapped)\n",
        "\n",
        "    cleaned_string = \"\"\n",
        "    for char in s:\n",
        "        if char.isdigit() or char.isalpha():\n",
        "            cleaned_string += char\n",
        "    cleaned_string.lower()\n",
        "    isPalindrome_bool = (s == s[::-1])\n",
        "    isPalindrome_string = (\"Palindrome\" if isPalindrome_bool else \"Not a palindrome\")\n",
        "    answers.append(isPalindrome_string)\n",
        "\n",
        "    if  not isPalindrome_bool:\n",
        "        seventh_string = s[4::-1]\n",
        "        answers.append(seventh_string)\n",
        "\n",
        "    return tuple(answers)"
      ]
    },
    {
      "cell_type": "code",
      "source": [
        "get_extended_string_info('sdqw dqwe12ssd sa')"
      ],
      "metadata": {
        "colab": {
          "base_uri": "https://localhost:8080/"
        },
        "id": "0TuZxH5XpRRr",
        "outputId": "f0ec3fa0-3c2b-423d-ff2a-e02da75f5d90"
      },
      "execution_count": 11,
      "outputs": [
        {
          "output_type": "execute_result",
          "data": {
            "text/plain": [
              "('dqwe12ssd',\n",
              " 3,\n",
              " 'wqds dss21ewqd as',\n",
              " 'sdqw dqwessd sa',\n",
              " 'SDQW DQWE12SSD SA',\n",
              " 'Not a palindrome',\n",
              " ' wqds')"
            ]
          },
          "metadata": {},
          "execution_count": 11
        }
      ]
    },
    {
      "cell_type": "markdown",
      "metadata": {
        "id": "DSlSqjt0N0-3"
      },
      "source": [
        "## 11. Турецкие сериалы.\n",
        "\n",
        "Из администрации школы вам поступили списки турецких студентов, сдававших экзамены по математике и физике в виде словаря \"имя\": tuple(оценка по физике, оценка по математике)\n",
        "\n",
        "Если оценка ниже трех - студент не сдал, если ниже четырех - не получает стипендию. Если хотябы один предмет не сдан, то это отчисление\n",
        "\n",
        "1. <font color=\"#8000FF\"> С помощью comprehensions </font> сформируйте списки студентов, кто сдал экзамены на проход/стипу. Подумайте, какие категории вам нужны\n",
        "\n",
        "2. Сформируйте списки на стипендию и на отчисление"
      ]
    },
    {
      "cell_type": "code",
      "execution_count": 12,
      "metadata": {
        "id": "1Zf73sEgOC43"
      },
      "outputs": [],
      "source": [
        "exam_scores = {\n",
        "    \"Serkan Bolat\": (3, 4),\n",
        "    \"Burak Deniz\": (5, 3),\n",
        "    \"Ahmet Yildirim\": (2, 5),\n",
        "    \"Merve Kaya\": (4, 4),\n",
        "    \"Emre Demir\": (2, 2),\n",
        "    \"Zeynep Arslan\": (3, 3),\n",
        "    \"Mustafa Yilmaz\": (5, 4),\n",
        "    \"Elif Ozdemir\": (4, 3),\n",
        "    \"Canan Karaca\": (2, 4),\n",
        "    \"Yusuf Sahin\": (5, 5),\n",
        "    \"Selin Cengiz\": (3, 2),\n",
        "    \"Kerem Gunes\": (4, 5),\n",
        "    \"Duru Aydin\": (3, 4),\n",
        "    \"Omer Yilmaz\": (2, 3),\n",
        "    \"Esra Uysal\": (4, 4),\n",
        "    \"Halil Yalcin\": (3, 3),\n",
        "    \"Ayse Yildirim\": (5, 4),\n",
        "    \"Fatma Demir\": (2, 2),\n",
        "    \"Ali Gokce\": (4, 3),\n",
        "    \"Cemre Erdem\": (3, 5)\n",
        "}\n"
      ]
    },
    {
      "cell_type": "code",
      "execution_count": 13,
      "metadata": {
        "id": "faZRQH5pIpzu"
      },
      "outputs": [],
      "source": [
        "students_with_passed_exams = [key for key, value in exam_scores.items() if value[0] >= 3 and value[1] >= 3]\n",
        "drop_out_list = [key for key, value in exam_scores.items() if value[0] < 3 or value[1] < 3]\n",
        "allowance_list = [key for key, value in exam_scores.items() if value[0] >= 4 and value[1] >= 4]"
      ]
    },
    {
      "cell_type": "markdown",
      "metadata": {
        "id": "vfhNtLvpOLYn"
      },
      "source": [
        "## 12. Я у мамы разработчик.\n",
        "\n",
        "Возьмите функцию из задачи 10 и переиспользуйте её, чтобы получить количество слов в строке. Ненужные переменные запихните в `_` и `*_`"
      ]
    },
    {
      "cell_type": "code",
      "execution_count": 15,
      "metadata": {
        "id": "simmTOFbIp2V",
        "outputId": "ad0fda0e-19d3-473f-9f70-39399551db1b",
        "colab": {
          "base_uri": "https://localhost:8080/"
        }
      },
      "outputs": [
        {
          "output_type": "stream",
          "name": "stdout",
          "text": [
            "cxzc sd\n",
            "2\n"
          ]
        }
      ],
      "source": [
        "s = input()\n",
        "_, word_count, *_ = get_extended_string_info(s)\n",
        "print(word_count)"
      ]
    },
    {
      "cell_type": "markdown",
      "metadata": {
        "id": "uFJ9mDlv1q9-"
      },
      "source": [
        "## 13. Не перевелись ещё богатыри на Руси! - часть 1.\n",
        "\n",
        "Вам дана очень длинная строка с фамилиями, отчествами и именами потенциальных богатырей.\n",
        "\n",
        "Ваша задача - <font color=\"#8000FF\">используя цикл for</font> получить список имён из неё, после чего вывести все **уникальные** имена."
      ]
    },
    {
      "cell_type": "code",
      "execution_count": 16,
      "metadata": {
        "id": "w8gXe9q-oElJ",
        "colab": {
          "base_uri": "https://localhost:8080/"
        },
        "outputId": "d3c6d50f-bb17-4996-a638-df40c22f70a3"
      },
      "outputs": [
        {
          "output_type": "stream",
          "name": "stdout",
          "text": [
            "Бронислав\n",
            "Гостевид\n",
            "Горисвет\n",
            "Веселин\n",
            "Градислав\n",
            "Доброслав\n",
            "Ярослав\n",
            "Мстислав\n",
            "Белослав\n",
            "Хотимир\n",
            "Властимир\n",
            "Томислав\n",
            "Мечислав\n",
            "Святослав\n",
            "Пересвет\n",
            "Ратибор\n",
            "Владимир\n",
            "Васелин\n",
            "Гранислав\n",
            "Драгомысл\n",
            "Жирослав\n",
            "Перемысл\n",
            "Ярополк\n",
            "Судислав\n",
            "Добромир\n",
            "Вышеслав\n",
            "Тихомир\n",
            "Вячеслав\n",
            "Драгомир\n",
            "Яромир\n",
            "Бранимир\n",
            "Истислав\n",
            "Чеслав\n"
          ]
        }
      ],
      "source": [
        "slavic_names = '''\n",
        "Ратибор Васелинович Чеславов\n",
        "Веселин Истиславович Гремиславовский\n",
        "Хотимир Владимирович Жирославовский\n",
        "Бронислав Властимирович Бранимировский\n",
        "Васелин Граниславович Богданов\n",
        "Истислав Мутимирович Станиславов\n",
        "Вячеслав Велиградович Белославов\n",
        "Ярополк Хотимирович Станиславовский\n",
        "Тихомир Судиславович Васелинов\n",
        "Гранислав Истиславович Жирославов\n",
        "Белослав Мечиславович Мирославовский\n",
        "Властимир Богданович Гремиславов\n",
        "Гостевид Пересветович Мстиславов\n",
        "Бранимир Горисветович Велимиров\n",
        "Веселин Ратиборович Станиславов\n",
        "Вячеслав Истиславович Драгомыслов\n",
        "Васелин Велимирович Венцеславов\n",
        "Добромир Богославович Судиславов\n",
        "Тихомир Святославович Васелинов\n",
        "Вышеслав Граниславович Доброславов\n",
        "Драгомысл Ярославович Вышеславов\n",
        "Мечислав Гостевидович Станиславовский\n",
        "Градислав Веселинович Драгомыслов\n",
        "Доброслав Велимирович Святополков\n",
        "Пересвет Хотимирович Тихомиров\n",
        "Святослав Тихомирович Граниславов\n",
        "Жирослав Гремиславович Богославов\n",
        "Гранислав Перемыслович Васелинов\n",
        "Гостевид Хотимирович Ратиборов\n",
        "Гостевид Мутимирович Томиславов\n",
        "Тихомир Владимирович Веселинов\n",
        "Мстислав Хотимирович Истиславовский\n",
        "Чеслав Святополкович Веселинов\n",
        "Владимир Истиславович Властимиров\n",
        "Добромир Святополкович Доброжиров\n",
        "Томислав Истиславович Судиславовский\n",
        "Веселин Хотимирович Мстиславов\n",
        "Владимир Яромирович Судиславов\n",
        "Добромир Судиславович Жирославов\n",
        "Вышеслав Милорадович Белославовский\n",
        "Судислав Властимирович Бранимиров\n",
        "Перемысл Жирославович Бранимиров\n",
        "Драгомир Добромирович Мирославов\n",
        "Вячеслав Доброславович Судиславов\n",
        "Хотимир Перемыслович Богославов\n",
        "Веселин Мстиславович Ясномыслов\n",
        "Яромир Велиградович Истиславов\n",
        "Яромир Граниславович Веселиновский\n",
        "Ярослав Жирославович Святополков\n",
        "Горисвет Ярополкович Станиславовский\n",
        "'''\n",
        "\n",
        "names = []\n",
        "for line in slavic_names.strip().split('\\n'):\n",
        "    names.append(line.split()[0])\n",
        "\n",
        "unique_names = set(names)\n",
        "for name in unique_names:\n",
        "  print(name)"
      ]
    },
    {
      "cell_type": "markdown",
      "metadata": {
        "id": "fBDeNsjooWXD"
      },
      "source": [
        "## 14. Не перевелись ещё богатыри на Руси! - часть 2.\n",
        "\n",
        "Вам дана очень длинная строка с фамилиями, отчествами и именами потенциальных богатырей.\n",
        "\n",
        "Ваша задача - <font color=\"#8000FF\">при помощи list comprehensions</font> получить список имён из неё, после чего вывести все **уникальные** имена."
      ]
    },
    {
      "cell_type": "code",
      "execution_count": 17,
      "metadata": {
        "id": "55SRUaKLrdyR",
        "outputId": "0cb69dce-fe4d-4e38-8e5f-0d1dfc1e8e3f",
        "colab": {
          "base_uri": "https://localhost:8080/"
        }
      },
      "outputs": [
        {
          "output_type": "stream",
          "name": "stdout",
          "text": [
            "['Ратибор', 'Веселин', 'Хотимир', 'Бронислав', 'Васелин', 'Истислав', 'Вячеслав', 'Ярополк', 'Тихомир', 'Гранислав', 'Белослав', 'Властимир', 'Гостевид', 'Бранимир', 'Веселин', 'Вячеслав', 'Васелин', 'Добромир', 'Тихомир', 'Вышеслав', 'Драгомысл', 'Мечислав', 'Градислав', 'Доброслав', 'Пересвет', 'Святослав', 'Жирослав', 'Гранислав', 'Гостевид', 'Гостевид', 'Тихомир', 'Мстислав', 'Чеслав', 'Владимир', 'Добромир', 'Томислав', 'Веселин', 'Владимир', 'Добромир', 'Вышеслав', 'Судислав', 'Перемысл', 'Драгомир', 'Вячеслав', 'Хотимир', 'Веселин', 'Яромир', 'Яромир', 'Ярослав', 'Горисвет']\n"
          ]
        }
      ],
      "source": [
        "names = [line.split()[0] for line in slavic_names.strip().split('\\n')]\n",
        "unique_names = set(names)\n",
        "print(names)"
      ]
    },
    {
      "cell_type": "markdown",
      "metadata": {
        "id": "QLVpQyJnK5Bc"
      },
      "source": [
        "## 15. Генератор богатырских имён.\n",
        "\n",
        "\n",
        "Современные родители любят имена с духом старины. Проанализируйте список имён (именно имён, а не отчеств/фамилий) из задачи 13. Выделите (чисто визуально) 6 возможных начал имён и 6 возможных концов имён (например, Яро - начало, Полк - конец, а вместе имя - Ярополк) и напишите функцию `generate_random_old_slavic_name`, которая при помощи random.choice выдаёт случайное имя.\n",
        "\n",
        "При помощи цикла вызовите функцию 10 раз и выведите, что получилось."
      ]
    },
    {
      "cell_type": "code",
      "execution_count": 18,
      "metadata": {
        "id": "0burcuqjMQ30",
        "colab": {
          "base_uri": "https://localhost:8080/"
        },
        "outputId": "d43a1da9-7381-452f-ec07-1a44d4a3b797"
      },
      "outputs": [
        {
          "output_type": "stream",
          "name": "stdout",
          "text": [
            "Васеслав\n",
            "Тихолин\n",
            "Владиполк\n",
            "Перелин\n",
            "Васебор\n",
            "Ратиполк\n",
            "Васелин\n",
            "Владислав\n",
            "Васелин\n",
            "Перемир\n"
          ]
        }
      ],
      "source": [
        "import random\n",
        "def generate_random_old_slavic_name():\n",
        "    beginnings = [\"Рати\", \"Хоти\", \"Васе\", \"Тихо\", \"Влади\", \"Пере\"]\n",
        "    endings = [\"бор\", \"лин\", \"мир\", \"слав\", \"свет\", \"полк\"]\n",
        "    return random.choice(beginnings) + random.choice(endings)\n",
        "\n",
        "for i in range(10):\n",
        "    print(generate_random_old_slavic_name())"
      ]
    },
    {
      "cell_type": "markdown",
      "metadata": {
        "id": "Td8QhrRJ_wdO"
      },
      "source": [
        "## 16. Один день, еще один, да один день - часть 1.\n",
        "\n",
        "Перед вами список некоторых князей Киевских и годы их правления.\n",
        "\n",
        "Ваша задача - <font color=\"#8000FF\">при помощи лямбда-функции и функции sort</font> отсортировать их в порядке возрастания количества лет, которых они провели на престоле."
      ]
    },
    {
      "cell_type": "code",
      "execution_count": 19,
      "metadata": {
        "id": "oxgCN37HJEHk"
      },
      "outputs": [],
      "source": [
        "rulers = [{\"name\": \"Олег Вещий\", \"year_start\": 882, \"year_end\": 912},\n",
        "          {\"name\": \"Игорь Рюрикович\", \"year_start\": 912, \"year_end\": 945},\n",
        "          {\"name\": \"Ольга\", \"year_start\": 945, \"year_end\": 960},\n",
        "          {\"name\": \"Святослав Игоревич\", \"year_start\": 945, \"year_end\": 972},\n",
        "          {\"name\": \"Ярополк Святославич\", \"year_start\": 972, \"year_end\": 978},\n",
        "          {\"name\": \"Владимир Святославич\", \"year_start\": 978, \"year_end\": 1015}]"
      ]
    },
    {
      "cell_type": "markdown",
      "source": [],
      "metadata": {
        "id": "_ryKQ-OmBwMF"
      }
    },
    {
      "cell_type": "code",
      "execution_count": 20,
      "metadata": {
        "id": "WpbJzN82KUki",
        "colab": {
          "base_uri": "https://localhost:8080/"
        },
        "outputId": "caedff09-2f30-4c71-c035-4d53c72927c4"
      },
      "outputs": [
        {
          "output_type": "execute_result",
          "data": {
            "text/plain": [
              "[{'name': 'Ярополк Святославич', 'year_start': 972, 'year_end': 978},\n",
              " {'name': 'Ольга', 'year_start': 945, 'year_end': 960},\n",
              " {'name': 'Святослав Игоревич', 'year_start': 945, 'year_end': 972},\n",
              " {'name': 'Олег Вещий', 'year_start': 882, 'year_end': 912},\n",
              " {'name': 'Игорь Рюрикович', 'year_start': 912, 'year_end': 945},\n",
              " {'name': 'Владимир Святославич', 'year_start': 978, 'year_end': 1015}]"
            ]
          },
          "metadata": {},
          "execution_count": 20
        }
      ],
      "source": [
        "rulers.sort(key = lambda x : x[\"year_end\"] - x[\"year_start\"])\n",
        "rulers"
      ]
    },
    {
      "cell_type": "markdown",
      "metadata": {
        "id": "VP2Nn03BKWOo"
      },
      "source": [
        "## 17. Один день, ещё один, да один день - часть 2.\n",
        "\n",
        "Перед вами список некоторых князей Киевских и годы их правления.\n",
        "\n",
        "Ваша задача - <font color=\"#8000FF\">при помощи лямбда-функции и функции filter</font> выбрать из них тех, кто правил дольше 17 лет или является Ольгой."
      ]
    },
    {
      "cell_type": "code",
      "execution_count": 21,
      "metadata": {
        "id": "hNkpXtt1KkDE"
      },
      "outputs": [],
      "source": [
        "filtered_rulers = list(filter(lambda x : (x[\"year_end\"] - x[\"year_start\"]) > 17 or x[\"name\"] == \"Ольга\", rulers))"
      ]
    },
    {
      "cell_type": "code",
      "source": [
        "filtered_rulers"
      ],
      "metadata": {
        "colab": {
          "base_uri": "https://localhost:8080/"
        },
        "id": "4iJM7CscCFjW",
        "outputId": "30c11b09-8cea-49af-c19d-c1472a1e598d"
      },
      "execution_count": 22,
      "outputs": [
        {
          "output_type": "execute_result",
          "data": {
            "text/plain": [
              "[{'name': 'Ольга', 'year_start': 945, 'year_end': 960},\n",
              " {'name': 'Святослав Игоревич', 'year_start': 945, 'year_end': 972},\n",
              " {'name': 'Олег Вещий', 'year_start': 882, 'year_end': 912},\n",
              " {'name': 'Игорь Рюрикович', 'year_start': 912, 'year_end': 945},\n",
              " {'name': 'Владимир Святославич', 'year_start': 978, 'year_end': 1015}]"
            ]
          },
          "metadata": {},
          "execution_count": 22
        }
      ]
    },
    {
      "cell_type": "markdown",
      "source": [],
      "metadata": {
        "id": "EUrUKF0XCFPu"
      }
    },
    {
      "cell_type": "markdown",
      "metadata": {
        "id": "uQmzqitT9zCx"
      },
      "source": [
        "## 18. Кому на Руси жить хорошо - часть 1.\n",
        "\n",
        "*В Древней Руси больше всего боялись тех, кто отсидел, потому что тогда сажали на кол.*\n",
        "\n",
        "Перед вами два словаря - словарь `paid_money` - количество золота, сколько этот боярин заплатил в казну и словарь `real_money` - количество золота, которое реально заработал боярин.\n",
        "\n",
        "<font color=\"#8000FF\">При помощи цикла for</font> выведи список имён бояр, которые заплатили менее десятой части от своих настоящих доходов - это те бояре, которых в следующем месяце придётся посадить на кол."
      ]
    },
    {
      "cell_type": "code",
      "execution_count": 23,
      "metadata": {
        "id": "x_QHMKex-DM-"
      },
      "outputs": [],
      "source": [
        "paid_money = {\"Козьма Григорьевич\": 70,\n",
        "              \"Аврам Стефанович\": 101,\n",
        "              \"Захарий Григорьевич\": 15,\n",
        "              \"Онцифор Лукинич\": 208}\n",
        "\n",
        "real_money = {\"Козьма Григорьевич\": 1000,\n",
        "              \"Аврам Стефанович\": 900,\n",
        "              \"Захарий Григорьевич\": 400,\n",
        "              \"Онцифор Лукинич\": 2000}"
      ]
    },
    {
      "cell_type": "code",
      "execution_count": 24,
      "metadata": {
        "id": "_rXLJj8M-BlC",
        "outputId": "1301e8af-01af-4e08-b904-2491426a02f6",
        "colab": {
          "base_uri": "https://localhost:8080/"
        }
      },
      "outputs": [
        {
          "output_type": "stream",
          "name": "stdout",
          "text": [
            "Козьма Григорьевич\n",
            "Захарий Григорьевич\n"
          ]
        }
      ],
      "source": [
        "for key, value in paid_money.items():\n",
        "    if(real_money[key] > 10 * value):\n",
        "        print(key)"
      ]
    },
    {
      "cell_type": "markdown",
      "metadata": {
        "id": "TAhHkr-mTY9d"
      },
      "source": [
        "## 19. Кому на Руси жить хорошо - часть 2.\n",
        "\n",
        "\n",
        "Перед вами два словаря - словарь `paid_money` - количество золота, сколько этот боярин заплатил в казну и словарь `real_money` - количество золота, которое реально заработал боярин.\n",
        "\n",
        "<font color=\"#8000FF\">При помощи list comprehension и условия</font> выведи список имён бояр, которые заплатили менее десятой части от своих настоящих доходов - это те бояре, которых в следующем месяце придётся посадить на кол."
      ]
    },
    {
      "cell_type": "code",
      "execution_count": 25,
      "metadata": {
        "id": "ORqNSSsGl12r",
        "outputId": "292486cf-1f52-4b92-d41b-81aafefb3521",
        "colab": {
          "base_uri": "https://localhost:8080/"
        }
      },
      "outputs": [
        {
          "output_type": "stream",
          "name": "stdout",
          "text": [
            "['Козьма Григорьевич', 'Захарий Григорьевич']\n"
          ]
        }
      ],
      "source": [
        "na_kol_list = [key for key, value in paid_money.items() if 10 * value < real_money[key]]\n",
        "print(na_kol_list)"
      ]
    },
    {
      "cell_type": "markdown",
      "metadata": {
        "id": "_HJtKjsu2ABU"
      },
      "source": [
        "## 20. Здесь русский дух, здесь Русью пахнет... (2 балла)\n",
        "\n",
        "Вы задались задачей сделать самые русские духи. Для этого вы собрали несколько пробных ароматов из разных нот (ноты между ароматами могут повторяться) и провели опрос среди прохожих, спрашивая, насколько Русью пахнет данный аромат по шкале от 1 до 5 включительно.\n",
        "\n",
        "Перед вами часть ароматов и часть голосов - ваша задача:\n",
        "\n",
        "1. На основе ароматов определить множество **уникальных** нот в ароматах\n",
        "2. Определить среднее значение голосов за каждую **ноту**\n",
        "3. Вывести топ-3 ноты по среднему значению голосов - это и будут наши самые русские духи."
      ]
    },
    {
      "cell_type": "code",
      "execution_count": 26,
      "metadata": {
        "id": "zvkU2KEy2WH8"
      },
      "outputs": [],
      "source": [
        "fragrances = [{\"id\": 15, \"name\": \"Русалка\", \"notes\": \"кувшинки, вода, мох, мускус\"},\n",
        "              {\"id\": 16, \"name\": \"Жар-птица\", \"notes\": \"молоко, сандал, слива, перец\"},\n",
        "              {\"id\": 17, \"name\": \"Река-Смородина\", \"notes\": \"смородина, вода, молоко, мед\"},\n",
        "              {\"id\": 18, \"name\": \"Царевна-Лягушка\", \"notes\": \"можжевельник, вода, древесина, перец, кувшинки\"},\n",
        "              {\"id\": 19, \"name\": \"Василиса-Премудрая\", \"notes\": \"мед, яблоко, ветивер, мускус\"}]\n",
        "\n",
        "votes = [{'id': 2353, 'fragrance_id': 19, 'vote_res': 2}, {'id': 2354, 'fragrance_id': 15, 'vote_res': 2}, {'id': 2355, 'fragrance_id': 18, 'vote_res': 1}, {'id': 2356, 'fragrance_id': 19, 'vote_res': 4}, {'id': 2357, 'fragrance_id': 16, 'vote_res': 4}, {'id': 2358, 'fragrance_id': 16, 'vote_res': 1}, {'id': 2359, 'fragrance_id': 18, 'vote_res': 1}, {'id': 2360, 'fragrance_id': 15, 'vote_res': 5}, {'id': 2361, 'fragrance_id': 18, 'vote_res': 5}, {'id': 2362, 'fragrance_id': 16, 'vote_res': 4}, {'id': 2363, 'fragrance_id': 19, 'vote_res': 2}, {'id': 2364, 'fragrance_id': 17, 'vote_res': 1}, {'id': 2365, 'fragrance_id': 15, 'vote_res': 1}, {'id': 2366, 'fragrance_id': 18, 'vote_res': 5}, {'id': 2367, 'fragrance_id': 19, 'vote_res': 3}, {'id': 2368, 'fragrance_id': 17, 'vote_res': 1}, {'id': 2369, 'fragrance_id': 18, 'vote_res': 1}, {'id': 2370, 'fragrance_id': 18, 'vote_res': 3}, {'id': 2371, 'fragrance_id': 15, 'vote_res': 2}, {'id': 2372, 'fragrance_id': 17, 'vote_res': 2}, {'id': 2373, 'fragrance_id': 16, 'vote_res': 2}, {'id': 2374, 'fragrance_id': 18, 'vote_res': 3}, {'id': 2375, 'fragrance_id': 19, 'vote_res': 1}, {'id': 2376, 'fragrance_id': 16, 'vote_res': 1}, {'id': 2377, 'fragrance_id': 16, 'vote_res': 2}, {'id': 2378, 'fragrance_id': 16, 'vote_res': 3}, {'id': 2379, 'fragrance_id': 18, 'vote_res': 2}, {'id': 2380, 'fragrance_id': 18, 'vote_res': 5}, {'id': 2381, 'fragrance_id': 15, 'vote_res': 3}, {'id': 2382, 'fragrance_id': 19, 'vote_res': 5}, {'id': 2383, 'fragrance_id': 17, 'vote_res': 4}, {'id': 2384, 'fragrance_id': 18, 'vote_res': 5}, {'id': 2385, 'fragrance_id': 19, 'vote_res': 3}, {'id': 2386, 'fragrance_id': 17, 'vote_res': 3}, {'id': 2387, 'fragrance_id': 17, 'vote_res': 5}, {'id': 2388, 'fragrance_id': 18, 'vote_res': 1}, {'id': 2389, 'fragrance_id': 19, 'vote_res': 1}, {'id': 2390, 'fragrance_id': 15, 'vote_res': 1}, {'id': 2391, 'fragrance_id': 19, 'vote_res': 5}, {'id': 2392, 'fragrance_id': 15, 'vote_res': 2}, {'id': 2393, 'fragrance_id': 15, 'vote_res': 3}, {'id': 2394, 'fragrance_id': 17, 'vote_res': 5}, {'id': 2395, 'fragrance_id': 15, 'vote_res': 5}, {'id': 2396, 'fragrance_id': 17, 'vote_res': 2}, {'id': 2397, 'fragrance_id': 15, 'vote_res': 5}, {'id': 2398, 'fragrance_id': 17, 'vote_res': 5}, {'id': 2399, 'fragrance_id': 18, 'vote_res': 4}, {'id': 2400, 'fragrance_id': 16, 'vote_res': 1}, {'id': 2401, 'fragrance_id': 17, 'vote_res': 5}, {'id': 2402, 'fragrance_id': 16, 'vote_res': 3}]"
      ]
    },
    {
      "cell_type": "code",
      "execution_count": 27,
      "metadata": {
        "id": "vG9JTNLM4eSE"
      },
      "outputs": [],
      "source": [
        "notes_list = [note for fragrance in fragrances for note in fragrance[\"notes\"].split(', ')]\n",
        "unique_notes = set(notes_list) # 1й вопрос\n",
        "\n",
        "notes_votes = {note : 0 for note in unique_notes}\n",
        "frag_dict = {frag[\"id\"] : frag[\"notes\"].split(\", \") for frag in fragrances}"
      ]
    },
    {
      "cell_type": "code",
      "execution_count": 28,
      "metadata": {
        "id": "_yPP5LWV5Mxk"
      },
      "outputs": [],
      "source": [
        "for vote in votes:\n",
        "    voted_notes = frag_dict[vote[\"fragrance_id\"]]\n",
        "    for note in voted_notes:\n",
        "        notes_votes[note] += vote[\"vote_res\"]\n",
        "\n",
        "average_votes = {key : value / len(votes) for key, value in notes_votes.items()} # 2й вопрос"
      ]
    },
    {
      "cell_type": "code",
      "execution_count": 29,
      "metadata": {
        "colab": {
          "base_uri": "https://localhost:8080/"
        },
        "id": "QMrJVi3a5Mxl",
        "outputId": "6378b3dd-1ec8-40d7-dc86-e067f5cdd943"
      },
      "outputs": [
        {
          "output_type": "stream",
          "name": "stdout",
          "text": [
            "вода\n",
            "кувшинки\n",
            "мед\n"
          ]
        }
      ],
      "source": [
        "sorted_average_votes = sorted(average_votes.items(), key = lambda x : x[1], reverse = True)\n",
        "for i in range(3): # 3й вопрос\n",
        "    print(sorted_average_votes[i][0])"
      ]
    }
  ],
  "metadata": {
    "colab": {
      "provenance": []
    },
    "kernelspec": {
      "display_name": "Python [conda env:base] *",
      "language": "python",
      "name": "conda-base-py"
    },
    "language_info": {
      "codemirror_mode": {
        "name": "ipython",
        "version": 3
      },
      "file_extension": ".py",
      "mimetype": "text/x-python",
      "name": "python",
      "nbconvert_exporter": "python",
      "pygments_lexer": "ipython3",
      "version": "3.12.4"
    }
  },
  "nbformat": 4,
  "nbformat_minor": 0
}